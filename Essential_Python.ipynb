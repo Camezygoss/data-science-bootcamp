{
 "cells":[
  {
   "cell_type":"markdown",
   "source":[
    "# Final Project - Essential Python\n",
    "\n",
    "**Date**: 1 March 2024\n",
    "\n",
    "**Author**: Sasicha Suksapan (Fang)\n",
    "\n",
    "**Course**: `Pandas Foundation`"
   ],
   "attachments":{
    
   },
   "metadata":{
    "datalore":{
     "node_id":"0taR5qsDlU976upnvMacUl",
     "type":"MD",
     "hide_input_from_viewers":true,
     "hide_output_from_viewers":true
    }
   }
  },
  {
   "cell_type":"markdown",
   "source":[
    "## Game: Pao Ying Chub"
   ],
   "attachments":{
    
   },
   "metadata":{
    "datalore":{
     "node_id":"ZUqlgYldKYS0LTLWN1jcJO",
     "type":"MD",
     "hide_input_from_viewers":true,
     "hide_output_from_viewers":true
    }
   }
  },
  {
   "cell_type":"code",
   "source":[
    "import random"
   ],
   "execution_count":1,
   "outputs":[
    
   ],
   "metadata":{
    "datalore":{
     "node_id":"EultTR7pqFjtBpqDM4KVNx",
     "type":"CODE",
     "hide_input_from_viewers":true,
     "hide_output_from_viewers":true
    }
   }
  },
  {
   "cell_type":"code",
   "source":[
    "def get_user_choice():\n",
    "    while True:\n",
    "        user_choice = input(\"Enter your choice (rock, paper, or scissors): \").lower()\n",
    "        if user_choice in ['rock', 'paper', 'scissors']:\n",
    "            return user_choice\n",
    "        else:\n",
    "            print(\"Invalid choice. Please enter 'rock', 'paper', or 'scissors'.\")\n",
    "\n",
    "def get_computer_choice():\n",
    "    return random.choice(['rock', 'paper', 'scissors'])\n",
    "\n",
    "def determine_winner(user_choice, computer_choice):\n",
    "    if user_choice == computer_choice:\n",
    "        return \"It's a tie!\"\n",
    "    elif (user_choice == 'rock' and computer_choice == 'scissors') or \\\n",
    "         (user_choice == 'paper' and computer_choice == 'rock') or \\\n",
    "         (user_choice == 'scissors' and computer_choice == 'paper'):\n",
    "        return \"You win!\"\n",
    "    else:\n",
    "        return \"Computer wins!\"\n",
    "\n",
    "def play_game():\n",
    "    print(\"Hello! Welcome to the game\")\n",
    "    name = input(\"What is your name: \")\n",
    "    print(\"Let's play Pao Ying Chub!\")\n",
    "    print(\"Battle start!!\")\n",
    "    print(\"Choose one: rock, paper, scissors!\")\n",
    "    user_score = 0\n",
    "    computer_score = 0\n",
    "    rounds = 0\n",
    "\n",
    "    while rounds < 5:\n",
    "        user_choice = get_user_choice()\n",
    "        computer_choice = get_computer_choice()\n",
    "        print(f\"\\nYou chose: {user_choice}\")\n",
    "        print(f\"Computer chose: {computer_choice}\")\n",
    "        result = determine_winner(user_choice, computer_choice)\n",
    "        print(result)\n",
    "        \n",
    "        if \"You\" in result:\n",
    "            user_score += 1\n",
    "        elif \"Computer\" in result:\n",
    "            computer_score += 1\n",
    "        \n",
    "        rounds += 1\n",
    "        print(f\"Score: You {user_score}, Computer {computer_score}\")\n",
    "\n",
    "        if user_score == 3 or computer_score == 3:\n",
    "            break\n",
    "\n",
    "    if user_score > computer_score:\n",
    "        print(\"\\nYou win the game!\")\n",
    "    elif user_score < computer_score:\n",
    "        print(\"\\nComputer wins the game!\")\n",
    "    else:\n",
    "        print(\"\\nIt's a tie!\")"
   ],
   "execution_count":2,
   "outputs":[
    
   ],
   "metadata":{
    "datalore":{
     "node_id":"DckV7ABK0OAJt43EoQ3j4h",
     "type":"CODE",
     "hide_input_from_viewers":true,
     "hide_output_from_viewers":true
    }
   }
  },
  {
   "cell_type":"code",
   "source":[
    "play_game()"
   ],
   "execution_count":3,
   "outputs":[
    {
     "name":"stdout",
     "text":[
      "Hello! Welcome to the game\n",
      "What is your name:  ff\n",
      "Let's play Pao Ying Chub!\n",
      "Battle start!!\n",
      "Choose one: rock, paper, scissors!\n",
      "Enter your choice (rock, paper, or scissors):  rock\n",
      "\n",
      "You chose: rock\n",
      "Computer chose: scissors\n",
      "You win!\n",
      "Score: You 1, Computer 0\n",
      "Enter your choice (rock, paper, or scissors):  rock\n",
      "\n",
      "You chose: rock\n",
      "Computer chose: scissors\n",
      "You win!\n",
      "Score: You 2, Computer 0\n",
      "Enter your choice (rock, paper, or scissors):  rock\n",
      "\n",
      "You chose: rock\n",
      "Computer chose: paper\n",
      "Computer wins!\n",
      "Score: You 2, Computer 1\n",
      "Enter your choice (rock, paper, or scissors):  rock\n",
      "\n",
      "You chose: rock\n",
      "Computer chose: scissors\n",
      "You win!\n",
      "Score: You 3, Computer 1\n",
      "\n",
      "You win the game!\n"
     ],
     "output_type":"stream"
    }
   ],
   "metadata":{
    "datalore":{
     "node_id":"0qLnxybA6TTSibyzk5RBD0",
     "type":"CODE",
     "hide_input_from_viewers":true,
     "hide_output_from_viewers":true
    }
   }
  },
  {
   "cell_type":"markdown",
   "source":[
    "## OOP"
   ],
   "attachments":{
    
   },
   "metadata":{
    "datalore":{
     "node_id":"Y2UeDAMuymFC0zYqf507ld",
     "type":"MD",
     "hide_input_from_viewers":true,
     "hide_output_from_viewers":true
    }
   }
  },
  {
   "cell_type":"code",
   "source":[
    "from random import randint"
   ],
   "execution_count":4,
   "outputs":[
    
   ],
   "metadata":{
    "datalore":{
     "node_id":"Mmapg3dTvnd6MAzsm7FvIt",
     "type":"CODE",
     "hide_input_from_viewers":true,
     "hide_output_from_viewers":true
    }
   }
  },
  {
   "cell_type":"code",
   "source":[
    "class DataAnalyst:\n",
    "    def __init__(self, name, skill, salary):\n",
    "        self.name = name\n",
    "        self.skill = skill\n",
    "        self.salary = salary\n",
    "\n",
    "    def __str__(self):\n",
    "        return f\"Hi! call me {self.name}, my hard skill: {self.skill}\"\n",
    "    def orther_skill(self, other_skill):\n",
    "        print (f\"Other skill is: {other_skill}.\")\n",
    "    def display_salary(self):\n",
    "        print (f\"Salary you want: {self.salary} THB\")\n",
    "    def get_point(self):\n",
    "        point = randint(1,10)\n",
    "        print(f\"Your point: {point}. Great!\")"
   ],
   "execution_count":5,
   "outputs":[
    
   ],
   "metadata":{
    "datalore":{
     "node_id":"v6yCCFAzg7rVqMfZObTmVL",
     "type":"CODE",
     "hide_input_from_viewers":true,
     "hide_output_from_viewers":true
    }
   }
  },
  {
   "cell_type":"code",
   "source":[
    "data = DataAnalyst(\"Eiei\", \"SQL\", 30000)\n",
    "print(data)"
   ],
   "execution_count":6,
   "outputs":[
    {
     "name":"stdout",
     "text":[
      "Hi! call me Eiei, my hard skill: SQL\n"
     ],
     "output_type":"stream"
    }
   ],
   "metadata":{
    "datalore":{
     "node_id":"MRGhWkE7AQO1og3jiK5RUG",
     "type":"CODE",
     "hide_input_from_viewers":true,
     "hide_output_from_viewers":true
    }
   }
  },
  {
   "cell_type":"code",
   "source":[
    "data.orther_skill(\"R and Python\")"
   ],
   "execution_count":7,
   "outputs":[
    {
     "name":"stdout",
     "text":[
      "Other skill is: R and Python.\n"
     ],
     "output_type":"stream"
    }
   ],
   "metadata":{
    "datalore":{
     "node_id":"JeJIN73cCR77vpwWnPlFA0",
     "type":"CODE",
     "hide_input_from_viewers":true,
     "hide_output_from_viewers":true
    }
   }
  },
  {
   "cell_type":"code",
   "source":[
    "data.display_salary()"
   ],
   "execution_count":8,
   "outputs":[
    {
     "name":"stdout",
     "text":[
      "Salary you want: 30000 THB\n"
     ],
     "output_type":"stream"
    }
   ],
   "metadata":{
    "datalore":{
     "node_id":"0VzdTtHOgCXEjofLpJGus9",
     "type":"CODE",
     "hide_input_from_viewers":true,
     "hide_output_from_viewers":true
    }
   }
  },
  {
   "cell_type":"code",
   "source":[
    "data.get_point()"
   ],
   "execution_count":9,
   "outputs":[
    {
     "name":"stdout",
     "text":[
      "Your point: 9. Great!\n"
     ],
     "output_type":"stream"
    }
   ],
   "metadata":{
    "datalore":{
     "node_id":"3j2OU3Eh9FxTv4x6GxIbya",
     "type":"CODE",
     "hide_input_from_viewers":true,
     "hide_output_from_viewers":true
    }
   }
  },
  {
   "cell_type":"markdown",
   "source":[
    "## API"
   ],
   "attachments":{
    
   },
   "metadata":{
    "datalore":{
     "node_id":"hEABOm76IxbUdmmlyipZP5",
     "type":"MD",
     "hide_input_from_viewers":true,
     "hide_output_from_viewers":true
    }
   }
  },
  {
   "cell_type":"code",
   "source":[
    "from requests import get \n",
    "from time import sleep"
   ],
   "execution_count":10,
   "outputs":[
    
   ],
   "metadata":{
    "datalore":{
     "node_id":"f1QILNKdTJes425DfrOrdy",
     "type":"CODE",
     "hide_input_from_viewers":true,
     "hide_output_from_viewers":true
    }
   }
  },
  {
   "cell_type":"code",
   "source":[
    "url = \"https:\/\/swapi.dev\/api\/planets\/\"\n",
    "response = get(url)\n",
    "print(response.status_code)"
   ],
   "execution_count":11,
   "outputs":[
    {
     "name":"stdout",
     "text":[
      "200\n"
     ],
     "output_type":"stream"
    }
   ],
   "metadata":{
    "datalore":{
     "node_id":"yLDl02LFZLSD8Ev8znA0e7",
     "type":"CODE",
     "hide_input_from_viewers":true,
     "hide_output_from_viewers":true
    }
   }
  },
  {
   "cell_type":"code",
   "source":[
    "for i in range(10):\n",
    "    index = i + 1\n",
    "    new_url = url + str(index)\n",
    "    resp = get(new_url).json()\n",
    "    name = resp[\"name\"]\n",
    "    climate = resp[\"climate\"]\n",
    "    terrain = resp[\"terrain\"]\n",
    "    print(name, climate, terrain)\n",
    "    sleep(1)"
   ],
   "execution_count":12,
   "outputs":[
    {
     "name":"stdout",
     "text":[
      "Tatooine arid desert\n",
      "Alderaan temperate grasslands, mountains\n",
      "Yavin IV temperate, tropical jungle, rainforests\n",
      "Hoth frozen tundra, ice caves, mountain ranges\n",
      "Dagobah murky swamp, jungles\n",
      "Bespin temperate gas giant\n",
      "Endor temperate forests, mountains, lakes\n",
      "Naboo temperate grassy hills, swamps, forests, mountains\n",
      "Coruscant temperate cityscape, mountains\n",
      "Kamino temperate ocean\n"
     ],
     "output_type":"stream"
    }
   ],
   "metadata":{
    "datalore":{
     "node_id":"kXBOL7DoxqRn8PftvEtXgY",
     "type":"CODE",
     "hide_input_from_viewers":true,
     "hide_output_from_viewers":true
    }
   }
  },
  {
   "cell_type":"markdown",
   "source":[
    "## Logistic Regression model"
   ],
   "attachments":{
    
   },
   "metadata":{
    "datalore":{
     "node_id":"TP6Yg0JAzUcbH4eRG4KJOz",
     "type":"MD",
     "hide_input_from_viewers":true,
     "hide_output_from_viewers":true
    }
   }
  },
  {
   "cell_type":"code",
   "source":[
    "import pandas as pd\n",
    "import numpy as np\n",
    "from sklearn.linear_model import LogisticRegression\n",
    "from sklearn.model_selection import train_test_split\n",
    "from sklearn.metrics import confusion_matrix, ConfusionMatrixDisplay"
   ],
   "execution_count":13,
   "outputs":[
    
   ],
   "metadata":{
    "datalore":{
     "node_id":"l5ozGo8t7cj9gRcLyNYoaB",
     "type":"CODE",
     "hide_input_from_viewers":true,
     "hide_output_from_viewers":true
    }
   }
  },
  {
   "cell_type":"code",
   "source":[
    "df_ch = pd.read_csv(\"churn.csv\")\n",
    "y = df_ch[\"churn\"]\n",
    "X = df_ch[['accountlength', 'totaldayminutes', 'totaldaycharge',\\\n",
    "           'totaldaycalls','totalevecalls','totalevecharge']]"
   ],
   "execution_count":14,
   "outputs":[
    
   ],
   "metadata":{
    "datalore":{
     "node_id":"OADQmaaMyI0gvQ5wcoMVis",
     "type":"CODE",
     "hide_input_from_viewers":true,
     "hide_output_from_viewers":true
    }
   }
  },
  {
   "cell_type":"code",
   "source":[
    "# split data\n",
    "X_train, X_test, y_train, y_test = train_test_split(\n",
    "    X, y, test_size=0.2, random_state=99) \n",
    "\n",
    "## train model\n",
    "logistic_model = LogisticRegression()\n",
    "logistic_model.fit(X_train, y_train)\n",
    "\n",
    "## score\n",
    "train_model = logistic_model.score(X_train, y_train)\n",
    "\n",
    "## evaluate\n",
    "test_model = logistic_model.score(X_test, y_test)\n",
    "print(f\"train error: {train_model}, test error: {test_model}\")"
   ],
   "execution_count":15,
   "outputs":[
    {
     "name":"stdout",
     "text":[
      "train error: 0.8615, test error: 0.859\n"
     ],
     "output_type":"stream"
    }
   ],
   "metadata":{
    "datalore":{
     "node_id":"9mO50HufUJP4wIQ9q02tGr",
     "type":"CODE",
     "hide_input_from_viewers":true,
     "hide_output_from_viewers":true
    }
   }
  }
 ],
 "metadata":{
  "kernelspec":{
   "display_name":"Python",
   "language":"python",
   "name":"python"
  },
  "datalore":{
   "computation_mode":"JUPYTER",
   "package_manager":"pip",
   "base_environment":"default",
   "packages":[
    
   ],
   "report_row_ids":[
    "C7lEyWEHN4bzPi0hTalIqm"
   ],
   "version":3
  }
 },
 "nbformat":4,
 "nbformat_minor":4
}